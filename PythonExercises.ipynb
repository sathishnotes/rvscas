{
  "nbformat": 4,
  "nbformat_minor": 0,
  "metadata": {
    "colab": {
      "name": "PythonExercises.ipynb",
      "version": "0.3.2",
      "provenance": [],
      "collapsed_sections": []
    },
    "kernelspec": {
      "name": "python3",
      "display_name": "Python 3"
    }
  },
  "cells": [
    {
      "cell_type": "markdown",
      "metadata": {
        "id": "pokOgIffQYhG",
        "colab_type": "text"
      },
      "source": [
        "**Welcome to Python Exercises prepared by Sathish, Corporate Trainer - Technical @ RVS Educational Trust.**\n"
      ]
    },
    {
      "cell_type": "markdown",
      "metadata": {
        "id": "f5YSbsqciUII",
        "colab_type": "text"
      },
      "source": [
        "1. Write a program which will find all such numbers which are divisible by 7 but are not a multiple of 5, between 2000 and 3200 (both included)\n"
      ]
    },
    {
      "cell_type": "code",
      "metadata": {
        "id": "8h3_p8TrR2pB",
        "colab_type": "code",
        "colab": {}
      },
      "source": [
        "# your code for problem 1 here\n",
        "\n"
      ],
      "execution_count": 0,
      "outputs": []
    },
    {
      "cell_type": "markdown",
      "metadata": {
        "id": "vqMPaSmKij0m",
        "colab_type": "text"
      },
      "source": [
        "2. With a given integral number n, write a program to generate a dictionary that contains (i, i*i) such that is an integral number between 1 and 20 (both included). and then the program should print the dictionary"
      ]
    },
    {
      "cell_type": "code",
      "metadata": {
        "id": "t6L9sOkKi5qu",
        "colab_type": "code",
        "colab": {}
      },
      "source": [
        "# your code for problem 2 here\n",
        "\n",
        "\n"
      ],
      "execution_count": 0,
      "outputs": []
    },
    {
      "cell_type": "markdown",
      "metadata": {
        "id": "igPXdpOXjFP9",
        "colab_type": "text"
      },
      "source": [
        "3. Complete the palindrome function to check whether the given string is palindrome or not"
      ]
    },
    {
      "cell_type": "code",
      "metadata": {
        "id": "Wx69bzyTlKSs",
        "colab_type": "code",
        "colab": {}
      },
      "source": [
        "def checkPalindrome(val):\n",
        "  # Write your code here\n",
        "  \n",
        "  pass\n",
        "\n",
        "\n",
        "\n",
        "if checkPalindrome(input()):\n",
        "  print(\"Palindrome\")\n",
        "else:\n",
        "  print(\"Not a Palindrome\")"
      ],
      "execution_count": 0,
      "outputs": []
    },
    {
      "cell_type": "markdown",
      "metadata": {
        "id": "HSIn8yK1mYa8",
        "colab_type": "text"
      },
      "source": [
        "4. Find the largest number in the list"
      ]
    },
    {
      "cell_type": "code",
      "metadata": {
        "id": "1rN7JKuzm0FO",
        "colab_type": "code",
        "colab": {}
      },
      "source": [
        "L = [5,31,2,4,6,3,121,2324,6342,1214,5746,12132,14685,4423,12323,1243]\n",
        "\n",
        "# your code here to print the largest number from the list\n"
      ],
      "execution_count": 0,
      "outputs": []
    },
    {
      "cell_type": "markdown",
      "metadata": {
        "id": "DkTGYApKnFfR",
        "colab_type": "text"
      },
      "source": [
        "5. Write a program to find the number of words in a text file"
      ]
    },
    {
      "cell_type": "code",
      "metadata": {
        "id": "VfFLBsI7o_u5",
        "colab_type": "code",
        "colab": {}
      },
      "source": [
        "import urllib.request\n",
        "\n",
        "f = urllib.request.urlopen(\"https://raw.githubusercontent.com/sathishnotes/rvscas/master/textFile.txt\")\n",
        "\n",
        "# your code for exercise 5 here\n",
        "\n",
        "\n"
      ],
      "execution_count": 0,
      "outputs": []
    },
    {
      "cell_type": "code",
      "metadata": {
        "id": "JwggI0vSsVju",
        "colab_type": "code",
        "colab": {}
      },
      "source": [
        ""
      ],
      "execution_count": 0,
      "outputs": []
    }
  ]
}